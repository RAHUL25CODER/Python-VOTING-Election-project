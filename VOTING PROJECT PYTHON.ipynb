{
 "cells": [
  {
   "cell_type": "code",
   "execution_count": null,
   "id": "36440904",
   "metadata": {},
   "outputs": [],
   "source": [
    "candidate1 = input(\"enter 1st candidate name: \")\n",
    "candidate2 = input(\"enter 2nd candidate name: \")\n",
    "cand1_vote =0\n",
    "cand2_vote =0\n",
    "voter_id=[1,2,3,4,5,6,7,9,10]\n",
    "voters_id = [1,2,3,4,5,6,7,8]\n",
    "no_of_voters = len(voters_id)\n",
    "print(\"no. of voter: \",no_of_voters)\n",
    "voted = []\n",
    "while True:\n",
    "    if voter_id ==[]:\n",
    "        print(\"voting is over\")\n",
    "        if cand1_vote>cand2_vote:print(f\"{candidate1} won the election with {cand1_vote}\")\n",
    "\t\telif cand2_vote>cand2_vote:\n",
    "\t\t\tprint(f\"{candidate2} won the election with {cand2_vote}\")\n",
    "\t\telif cand1_vote==cand2_vote:\n",
    "\t\t\tprint(\"tied!!!!!\")\n",
    "\t\tbreak\n",
    "\telse:\n",
    "\t\tvoter = int(input(\"enter your id:  \"))\n",
    "\t\tif voter in voted :\n",
    "\t\t\tprint(\"you already voted\")\n",
    "\t\telse:\n",
    "\t\t\tif voter in voter_id:\n",
    "\t\t\t\tprint(f\"1.{candidate1}\\n2.{candidate2}\")\n",
    "\t\t\t\tchoice = int(input(\"enter your choice\"))\n",
    "\t\t\t\tif choice==1:\n",
    "\t\t\t\t\tcand1_vote+=1\n",
    "\t\t\t\t\tprint(f\"you voted {candidate1}\")\n",
    "\t\t\t\telif choice==2:\n",
    "\t\t\t\t\tcand2_vote+=1\n",
    "\t\t\t\t\tprint(f\"you voted {candidate2}\")\n",
    "\t\t\t\t\tvoters_id.remove(voter)\n",
    "\t\t\t\t\tvoted.append(voter)\n",
    "\t\t\telse:\n",
    "\t\t\t\tprint(\"you are not allowed to vote\")'''\n",
    "\n"
   ]
  }
 ],
 "metadata": {
  "kernelspec": {
   "display_name": "Python 3 (ipykernel)",
   "language": "python",
   "name": "python3"
  },
  "language_info": {
   "codemirror_mode": {
    "name": "ipython",
    "version": 3
   },
   "file_extension": ".py",
   "mimetype": "text/x-python",
   "name": "python",
   "nbconvert_exporter": "python",
   "pygments_lexer": "ipython3",
   "version": "3.9.12"
  }
 },
 "nbformat": 4,
 "nbformat_minor": 5
}
